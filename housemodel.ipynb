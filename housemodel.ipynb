{
 "cells": [
  {
   "cell_type": "code",
   "execution_count": 38,
   "id": "ffc3c602-8c4f-4076-b651-893c1aee0e94",
   "metadata": {},
   "outputs": [
    {
     "name": "stdout",
     "output_type": "stream",
     "text": [
      "Random Forest:\n",
      "MAE: 31660.46843023256\n",
      "MSE: 2393815007.8887124\n",
      "R2 Score: 0.8173230611482697\n",
      "Модель успешно сохранена в model.pkl\n"
     ]
    }
   ],
   "source": [
    "from sklearn.pipeline import Pipeline\n",
    "from sklearn.compose import ColumnTransformer\n",
    "from sklearn.preprocessing import StandardScaler, OneHotEncoder\n",
    "from sklearn.linear_model import LinearRegression\n",
    "from sklearn.ensemble import RandomForestRegressor\n",
    "from sklearn.metrics import mean_absolute_error, mean_squared_error, r2_score\n",
    "from sklearn.model_selection import train_test_split\n",
    "from sklearn.impute import SimpleImputer\n",
    "import numpy as np\n",
    "import pandas as pd\n",
    "import pickle\n",
    "\n",
    "# 1. Загружаем данные\n",
    "url = \"https://raw.githubusercontent.com/ageron/handson-ml/master/datasets/housing/housing.csv\"\n",
    "df = pd.read_csv(url)\n",
    "\n",
    "# 2. Разделяем фичи и целевую переменную\n",
    "X = df.drop(columns=[\"median_house_value\"])  # Признаки\n",
    "y = df[\"median_house_value\"]  # Целевая переменная\n",
    "\n",
    "# 3. Определяем числовые и категориальные признаки\n",
    "categorical_features = [\"ocean_proximity\"]\n",
    "numerical_features = X.select_dtypes(include=[np.number]).columns\n",
    "\n",
    "# 4. Разделяем данные на тренировочные и тестовые\n",
    "X_train, X_test, y_train, y_test = train_test_split(X, y, test_size=0.2, random_state=42)\n",
    "\n",
    "# 5. Создаём предобработчик данных\n",
    "preprocessor = ColumnTransformer(\n",
    "    transformers=[\n",
    "        (\"num\", Pipeline(steps=[\n",
    "            (\"imputer\", SimpleImputer(strategy=\"mean\")),\n",
    "            (\"scaler\", StandardScaler())\n",
    "        ]), numerical_features),\n",
    "        (\"cat\", Pipeline(steps=[\n",
    "            (\"imputer\", SimpleImputer(strategy=\"most_frequent\")),\n",
    "            (\"encoder\", OneHotEncoder(sparse_output=False, handle_unknown=\"ignore\"))\n",
    "        ]), categorical_features),\n",
    "    ]\n",
    ")\n",
    "\n",
    "# 6. Создаём и обучаем модель Random Forest\n",
    "model_rf = Pipeline(steps=[(\"preprocessor\", preprocessor),\n",
    "                           (\"regressor\", RandomForestRegressor(n_estimators=100, random_state=42))])\n",
    "model_rf.fit(X_train, y_train)\n",
    "\n",
    "# 7. Делаем предсказание\n",
    "y_pred_rf = model_rf.predict(X_test)\n",
    "\n",
    "# 8. Оцениваем модель\n",
    "print(\"Random Forest:\")\n",
    "print(\"MAE:\", mean_absolute_error(y_test, y_pred_rf))\n",
    "print(\"MSE:\", mean_squared_error(y_test, y_pred_rf))\n",
    "print(\"R2 Score:\", r2_score(y_test, y_pred_rf))\n",
    "\n",
    "# 9. Сохраняем модель\n",
    "with open(\"model.pkl\", \"wb\") as file:\n",
    "    pickle.dump(model_rf, file)\n",
    "\n",
    "print(\"Модель успешно сохранена в model.pkl\")\n"
   ]
  },
  {
   "cell_type": "code",
   "execution_count": null,
   "id": "1d2a6227-a38c-4ab4-afb5-6eee9b19e18d",
   "metadata": {},
   "outputs": [],
   "source": []
  }
 ],
 "metadata": {
  "kernelspec": {
   "display_name": "Python 3 (ipykernel)",
   "language": "python",
   "name": "python3"
  },
  "language_info": {
   "codemirror_mode": {
    "name": "ipython",
    "version": 3
   },
   "file_extension": ".py",
   "mimetype": "text/x-python",
   "name": "python",
   "nbconvert_exporter": "python",
   "pygments_lexer": "ipython3",
   "version": "3.13.2"
  }
 },
 "nbformat": 4,
 "nbformat_minor": 5
}
